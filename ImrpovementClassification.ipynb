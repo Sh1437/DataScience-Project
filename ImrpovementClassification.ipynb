{
  "nbformat": 4,
  "nbformat_minor": 0,
  "metadata": {
    "accelerator": "GPU",
    "colab": {
      "name": "Copy of Kegiatan Modul 3_ML.ipynb",
      "provenance": [],
      "collapsed_sections": []
    },
    "kernelspec": {
      "display_name": "Python 3",
      "name": "python3"
    }
  },
  "cells": [
    {
      "cell_type": "code",
      "metadata": {
        "colab": {
          "base_uri": "https://localhost:8080/"
        },
        "id": "_iP7_H-5ubtG",
        "outputId": "fff35e3d-1492-473d-95ae-90fceaf6932a"
      },
      "source": [
        "from google.colab import drive\n",
        "drive.mount('/content/drive')"
      ],
      "execution_count": null,
      "outputs": [
        {
          "output_type": "stream",
          "text": [
            "Drive already mounted at /content/drive; to attempt to forcibly remount, call drive.mount(\"/content/drive\", force_remount=True).\n"
          ],
          "name": "stdout"
        }
      ]
    },
    {
      "cell_type": "code",
      "metadata": {
        "id": "fWkAcnefSPKI"
      },
      "source": [
        "# Define kaggle json path\n",
        "# Sesuaikan dengan path anda\n",
        "import os\n",
        "os.environ['KAGGLE_CONFIG_DIR'] = \"/content/drive/My Drive/MachineL/Modul3\""
      ],
      "execution_count": null,
      "outputs": []
    },
    {
      "cell_type": "code",
      "metadata": {
        "colab": {
          "base_uri": "https://localhost:8080/"
        },
        "id": "IPUJ-XM5S4Th",
        "outputId": "32d388e6-deaa-44dd-b33c-135e1bc4454d"
      },
      "source": [
        "# Ubah lokasi direktori kerja\n",
        "# Sesuaikan dengan path anda\n",
        "%cd /content/drive/My Drive/MachineL/Modul3"
      ],
      "execution_count": null,
      "outputs": [
        {
          "output_type": "stream",
          "text": [
            "/content/drive/My Drive/MachineL/Modul3\n"
          ],
          "name": "stdout"
        }
      ]
    },
    {
      "cell_type": "code",
      "metadata": {
        "colab": {
          "base_uri": "https://localhost:8080/"
        },
        "id": "69Bbmd-TCGhh",
        "outputId": "a6eef8de-af6c-4148-b553-23fde1e72820"
      },
      "source": [
        "!ls  "
      ],
      "execution_count": null,
      "outputs": [
        {
          "output_type": "stream",
          "text": [
            "kaggle.json\n"
          ],
          "name": "stdout"
        }
      ]
    },
    {
      "cell_type": "code",
      "metadata": {
        "colab": {
          "base_uri": "https://localhost:8080/"
        },
        "id": "emSTR53KTGW9",
        "outputId": "500721b3-20cf-4b90-90bd-312ec122c191"
      },
      "source": [
        "!kaggle datasets download -d drgfreeman/rockpaperscissors"
      ],
      "execution_count": null,
      "outputs": [
        {
          "output_type": "stream",
          "text": [
            "Downloading rockpaperscissors.zip to /content/drive/My Drive/MachineL/Modul3\n",
            " 95% 290M/306M [00:01<00:00, 168MB/s]\n",
            "100% 306M/306M [00:01<00:00, 167MB/s]\n"
          ],
          "name": "stdout"
        }
      ]
    },
    {
      "cell_type": "code",
      "metadata": {
        "colab": {
          "base_uri": "https://localhost:8080/"
        },
        "id": "JcpagHVWbdDY",
        "outputId": "f70c5d28-da9d-4340-a8e9-27822fb53b57"
      },
      "source": [
        "!ls"
      ],
      "execution_count": null,
      "outputs": [
        {
          "output_type": "stream",
          "text": [
            "kaggle.json  rockpaperscissors.zip\n"
          ],
          "name": "stdout"
        }
      ]
    },
    {
      "cell_type": "code",
      "metadata": {
        "id": "3HDyNsR3bam4"
      },
      "source": [
        "\n",
        "!unzip \\*.zip &> /dev/null && rm *.zip"
      ],
      "execution_count": null,
      "outputs": []
    },
    {
      "cell_type": "code",
      "metadata": {
        "id": "Vgw_k1zihmkK",
        "colab": {
          "base_uri": "https://localhost:8080/"
        },
        "outputId": "a1dc13b3-22e1-4100-b818-f849c830bc32"
      },
      "source": [
        "!ls"
      ],
      "execution_count": null,
      "outputs": [
        {
          "output_type": "stream",
          "text": [
            "kaggle.json  paper  README_rpc-cv-images.txt  rock  rps-cv-images  scissors\n"
          ],
          "name": "stdout"
        }
      ]
    },
    {
      "cell_type": "code",
      "metadata": {
        "id": "d0m6kXUQR1US"
      },
      "source": [
        "!mkdir rockpaperscissors"
      ],
      "execution_count": null,
      "outputs": []
    },
    {
      "cell_type": "code",
      "metadata": {
        "colab": {
          "base_uri": "https://localhost:8080/"
        },
        "id": "YZuMk1fDs4BH",
        "outputId": "25298548-3f3d-4ff4-eecd-5ce5e62470bc"
      },
      "source": [
        "!ls"
      ],
      "execution_count": null,
      "outputs": [
        {
          "output_type": "stream",
          "text": [
            "kaggle.json  README_rpc-cv-images.txt  rockpaperscissors  scissors\n",
            "paper\t     rock\t\t       rps-cv-images\n"
          ],
          "name": "stdout"
        }
      ]
    },
    {
      "cell_type": "code",
      "metadata": {
        "id": "6Re0vwqYUPGD"
      },
      "source": [
        "!mkdir rockpaperscissors/datasets"
      ],
      "execution_count": null,
      "outputs": []
    },
    {
      "cell_type": "code",
      "metadata": {
        "colab": {
          "base_uri": "https://localhost:8080/"
        },
        "id": "IPB6FWUsZhyQ",
        "outputId": "bbcab3f0-f4ab-4546-e06f-9570289c1872"
      },
      "source": [
        "!ls"
      ],
      "execution_count": null,
      "outputs": [
        {
          "output_type": "stream",
          "text": [
            "kaggle.json  README_rpc-cv-images.txt  rockpaperscissors  scissors\n",
            "paper\t     rock\t\t       rps-cv-images\n"
          ],
          "name": "stdout"
        }
      ]
    },
    {
      "cell_type": "code",
      "metadata": {
        "id": "0cDHFx3xtYuB"
      },
      "source": [
        "!mv \"/content/drive/My Drive/MachineL/Modul3/rock\" \"/content/drive/My Drive/MachineL/Modul3/rockpaperscissors/datasets\"\n",
        "!mv \"/content/drive/My Drive/MachineL/Modul3/paper\" \"/content/drive/My Drive/MachineL/Modul3/rockpaperscissors/datasets\"\n",
        "!mv \"/content/drive/My Drive/MachineL/Modul3/scissors\" \"/content/drive/My Drive/MachineL/Modul3/rockpaperscissors/datasets\""
      ],
      "execution_count": null,
      "outputs": []
    },
    {
      "cell_type": "code",
      "metadata": {
        "colab": {
          "base_uri": "https://localhost:8080/"
        },
        "id": "XaeSiGtca4P5",
        "outputId": "aa92ab3b-c7de-4e09-c073-81400ec6e433"
      },
      "source": [
        "!ls rockpaperscissors/datasets"
      ],
      "execution_count": null,
      "outputs": [
        {
          "output_type": "stream",
          "text": [
            "paper  rock  scissors\n"
          ],
          "name": "stdout"
        }
      ]
    },
    {
      "cell_type": "code",
      "metadata": {
        "colab": {
          "base_uri": "https://localhost:8080/"
        },
        "id": "zZCyhi74te1C",
        "outputId": "6c629d00-574e-4632-f98a-471686467818"
      },
      "source": [
        "%cd /content/drive/My Drive/MachineL/Modul3/rockpaperscissors/datasets"
      ],
      "execution_count": null,
      "outputs": [
        {
          "output_type": "stream",
          "text": [
            "/content/drive/My Drive/MachineL/Modul3/rockpaperscissors/datasets\n"
          ],
          "name": "stdout"
        }
      ]
    },
    {
      "cell_type": "code",
      "metadata": {
        "colab": {
          "base_uri": "https://localhost:8080/"
        },
        "id": "yK3gHvkTthq4",
        "outputId": "fe7e7cc9-89ad-4daf-b4c5-9d6b16e561be"
      },
      "source": [
        "!ls"
      ],
      "execution_count": null,
      "outputs": [
        {
          "output_type": "stream",
          "text": [
            "paper  rock  scissors\n"
          ],
          "name": "stdout"
        }
      ]
    },
    {
      "cell_type": "code",
      "metadata": {
        "id": "E9_rvimipTEP"
      },
      "source": [
        "base_dir = \"/content/drive/My Drive/MachineL/Modul3/rockpaperscissors\"\n",
        "data_dir = \"/content/drive/My Drive/MachineL/Modul3/rockpaperscissors/datasets\""
      ],
      "execution_count": null,
      "outputs": []
    },
    {
      "cell_type": "code",
      "metadata": {
        "colab": {
          "base_uri": "https://localhost:8080/"
        },
        "id": "E78aBtXgxjPp",
        "outputId": "cfba561d-a715-49d0-96d5-492f4b7b3493"
      },
      "source": [
        "pip install split-folders"
      ],
      "execution_count": null,
      "outputs": [
        {
          "output_type": "stream",
          "text": [
            "Collecting split-folders\n",
            "  Downloading https://files.pythonhosted.org/packages/b8/5f/3c2b2f7ea5e047c8cdc3bb00ae582c5438fcdbbedcc23b3cc1c2c7aae642/split_folders-0.4.3-py3-none-any.whl\n",
            "Installing collected packages: split-folders\n",
            "Successfully installed split-folders-0.4.3\n"
          ],
          "name": "stdout"
        }
      ]
    },
    {
      "cell_type": "code",
      "metadata": {
        "colab": {
          "base_uri": "https://localhost:8080/"
        },
        "id": "iDVr5c4ExnuP",
        "outputId": "353163aa-5534-485a-898c-9f805dd40812"
      },
      "source": [
        "import splitfolders\n",
        "splitfolders.ratio(data_dir, output=base_dir, seed=1337, ratio=(.7, .15, .15))"
      ],
      "execution_count": null,
      "outputs": [
        {
          "output_type": "stream",
          "text": [
            "Copying files: 2188 files [00:28, 77.28 files/s]\n"
          ],
          "name": "stderr"
        }
      ]
    },
    {
      "cell_type": "code",
      "metadata": {
        "colab": {
          "base_uri": "https://localhost:8080/"
        },
        "id": "V2BrwL681fFg",
        "outputId": "0bb96b7c-9205-4b24-90cb-090466a28410"
      },
      "source": [
        "ls rockpaperscissors"
      ],
      "execution_count": null,
      "outputs": [
        {
          "output_type": "stream",
          "text": [
            "\u001b[0m\u001b[01;34mdatasets\u001b[0m/  \u001b[01;34mtest\u001b[0m/  \u001b[01;34mtrain\u001b[0m/  \u001b[01;34mval\u001b[0m/\n"
          ],
          "name": "stdout"
        }
      ]
    },
    {
      "cell_type": "markdown",
      "source": [
        "## **Preprocessing**"
      ],
      "metadata": {
        "id": "ApYJTuDONeOu"
      }
    },
    {
      "cell_type": "code",
      "metadata": {
        "id": "mThUU7Ai6ytp"
      },
      "source": [
        "import os\n",
        "\n",
        "train_path = os.path.join(base_dir, 'train')\n",
        "test_path  = os.path.join(base_dir, 'test')\n",
        "val_path   = os.path.join(base_dir, 'val')"
      ],
      "execution_count": null,
      "outputs": []
    },
    {
      "cell_type": "code",
      "metadata": {
        "colab": {
          "base_uri": "https://localhost:8080/"
        },
        "id": "0r61d25Zoh_Z",
        "outputId": "c0275d84-5913-4516-88b3-80ca2b721735"
      },
      "source": [
        "from keras.preprocessing.image import ImageDataGenerator\n",
        "from sklearn.utils import shuffle\n",
        "\n",
        "batch_size = 32\n",
        "augmen_gen = ImageDataGenerator(rescale=1. / 255,\n",
        "                                rotation_range=40,\n",
        "                                width_shift_range=0.2,\n",
        "                                height_shift_range=0.2,\n",
        "                                zoom_range=0.2,\n",
        "                                horizontal_flip=True,\n",
        "                                fill_mode='nearest')\n",
        "\n",
        "train_gen = augmen_gen.flow_from_directory(\n",
        "    train_path,\n",
        "    class_mode = 'categorical',\n",
        "    shuffle=True,\n",
        "    target_size = (224,224),\n",
        "    batch_size=batch_size,\n",
        "    color_mode ='rgb'\n",
        ")\n",
        "\n",
        "val_gen = augmen_gen.flow_from_directory(\n",
        "    val_path,\n",
        "    class_mode = 'categorical',\n",
        "    shuffle=True,\n",
        "    target_size = (224,224),\n",
        "    batch_size= batch_size,\n",
        "    color_mode ='rgb'\n",
        ")\n",
        "\n",
        "test_gen = augmen_gen.flow_from_directory(\n",
        "    test_path,\n",
        "    class_mode = 'categorical',\n",
        "    shuffle=False,\n",
        "    target_size = (224,224),\n",
        "    batch_size=batch_size,\n",
        "    color_mode ='rgb',\n",
        ")"
      ],
      "execution_count": null,
      "outputs": [
        {
          "output_type": "stream",
          "text": [
            "Found 1531 images belonging to 3 classes.\n",
            "Found 326 images belonging to 3 classes.\n",
            "Found 331 images belonging to 3 classes.\n"
          ],
          "name": "stdout"
        }
      ]
    },
    {
      "cell_type": "code",
      "metadata": {
        "id": "PWp_YTCzIp5R"
      },
      "source": [
        "from tensorflow.keras.models import Sequential\n",
        "from tensorflow.keras.layers import InputLayer, Dense, Conv2D, MaxPool2D, Flatten, BatchNormalization, Dropout\n",
        "from tensorflow.keras.callbacks import ModelCheckpoint, ReduceLROnPlateau, EarlyStopping\n",
        "from tensorflow.keras.optimizers import Adam\n",
        "import time"
      ],
      "execution_count": null,
      "outputs": []
    },
    {
      "cell_type": "code",
      "metadata": {
        "id": "Mjl4kwq1XKJE"
      },
      "source": [
        "#Feature Selection\n",
        "model = Sequential()\n",
        "\n",
        "model.add(InputLayer(input_shape=[224,224,3]))\n",
        "model.add(Conv2D(filters=32, kernel_size=3, strides=1, padding='same', activation='relu'))\n",
        "model.add(MaxPool2D(pool_size=2, padding='same'))\n",
        "model.add(Conv2D(filters=64, kernel_size=3, strides=1, padding='same', activation='relu'))\n",
        "model.add(MaxPool2D(pool_size=2, padding='same'))\n",
        "model.add(Conv2D(filters=128, kernel_size=3, strides=1, padding='same', activation='relu'))\n",
        "model.add(MaxPool2D(pool_size=2, padding='same'))\n",
        "model.add(Dropout(0.25))\n",
        "model.add(BatchNormalization())\n",
        "model.add(Flatten())\n",
        "\n",
        "#Fully Connected Layer\n",
        "model.add(Dense(512, activation='relu'))\n",
        "model.add(Dropout(0.3))\n",
        "model.add(Dense(3, activation='softmax'))\n"
      ],
      "execution_count": null,
      "outputs": []
    },
    {
      "cell_type": "code",
      "metadata": {
        "colab": {
          "base_uri": "https://localhost:8080/"
        },
        "id": "dTQC-d65tO0e",
        "outputId": "1747d9f2-0207-4e51-bbaa-b83dfcd790fe"
      },
      "source": [
        "print(model.summary())"
      ],
      "execution_count": null,
      "outputs": [
        {
          "output_type": "stream",
          "text": [
            "Model: \"sequential\"\n",
            "_________________________________________________________________\n",
            "Layer (type)                 Output Shape              Param #   \n",
            "=================================================================\n",
            "conv2d (Conv2D)              (None, 224, 224, 32)      896       \n",
            "_________________________________________________________________\n",
            "max_pooling2d (MaxPooling2D) (None, 112, 112, 32)      0         \n",
            "_________________________________________________________________\n",
            "conv2d_1 (Conv2D)            (None, 112, 112, 64)      18496     \n",
            "_________________________________________________________________\n",
            "max_pooling2d_1 (MaxPooling2 (None, 56, 56, 64)        0         \n",
            "_________________________________________________________________\n",
            "conv2d_2 (Conv2D)            (None, 56, 56, 128)       73856     \n",
            "_________________________________________________________________\n",
            "max_pooling2d_2 (MaxPooling2 (None, 28, 28, 128)       0         \n",
            "_________________________________________________________________\n",
            "dropout (Dropout)            (None, 28, 28, 128)       0         \n",
            "_________________________________________________________________\n",
            "batch_normalization (BatchNo (None, 28, 28, 128)       512       \n",
            "_________________________________________________________________\n",
            "flatten (Flatten)            (None, 100352)            0         \n",
            "_________________________________________________________________\n",
            "dense (Dense)                (None, 512)               51380736  \n",
            "_________________________________________________________________\n",
            "dropout_1 (Dropout)          (None, 512)               0         \n",
            "_________________________________________________________________\n",
            "dense_1 (Dense)              (None, 3)                 1539      \n",
            "=================================================================\n",
            "Total params: 51,476,035\n",
            "Trainable params: 51,475,779\n",
            "Non-trainable params: 256\n",
            "_________________________________________________________________\n",
            "None\n"
          ],
          "name": "stdout"
        }
      ]
    },
    {
      "cell_type": "code",
      "metadata": {
        "id": "lk-8KBYctRLn"
      },
      "source": [
        "best_model_path = 'best_model.h5'\n",
        "checkpoint_callback = ModelCheckpoint(best_model_path,\n",
        "                                      monitor='val_accuracy',\n",
        "                                      save_best_only=True,\n",
        "                                      verbose=1)\n",
        "reduce_callback = ReduceLROnPlateau(monitor='val_accuracy', patience=3, factor=0.5, min_lr=0.000003, verbose=1)\n",
        "callbacks_list = [checkpoint_callback, reduce_callback]"
      ],
      "execution_count": null,
      "outputs": []
    },
    {
      "cell_type": "code",
      "metadata": {
        "id": "8tPPBmcDtYwi"
      },
      "source": [
        "learning_rate = 0.00001"
      ],
      "execution_count": null,
      "outputs": []
    },
    {
      "cell_type": "code",
      "metadata": {
        "id": "2NHvlRG7tpgb"
      },
      "source": [
        "model.compile(loss='categorical_crossentropy',\n",
        "              optimizer=Adam(lr=learning_rate),\n",
        "              metrics='accuracy')"
      ],
      "execution_count": null,
      "outputs": []
    },
    {
      "cell_type": "code",
      "metadata": {
        "colab": {
          "base_uri": "https://localhost:8080/"
        },
        "id": "OIHye4dUNq5J",
        "outputId": "886acfa3-de38-42e0-b4c6-913a65173331"
      },
      "source": [
        "start = time.time()\n",
        "H = model.fit_generator(train_gen, epochs=25,validation_data=val_gen, validation_steps = 4, verbose=1, callbacks=[callbacks_list])\n",
        "\n",
        "End = time.time()\n",
        "print (\"training time: \", End-start,\"s\")  # the time would be round to 3 decimal in seconds"
      ],
      "execution_count": null,
      "outputs": [
        {
          "output_type": "stream",
          "text": [
            "WARNING:tensorflow:From <ipython-input-35-72b7f51d4384>:4: Model.fit_generator (from tensorflow.python.keras.engine.training) is deprecated and will be removed in a future version.\n",
            "Instructions for updating:\n",
            "Please use Model.fit, which supports generators.\n",
            "Epoch 1/25\n",
            " 2/48 [>.............................] - ETA: 1s - loss: 1.3674 - accuracy: 0.2969WARNING:tensorflow:Callbacks method `on_train_batch_end` is slow compared to the batch time (batch time: 0.0219s vs `on_train_batch_end` time: 0.0380s). Check your callbacks.\n",
            "48/48 [==============================] - ETA: 0s - loss: 1.1111 - accuracy: 0.4637\n",
            "Epoch 00001: val_accuracy improved from -inf to 0.26562, saving model to best_model.h5\n",
            "48/48 [==============================] - 26s 541ms/step - loss: 1.1111 - accuracy: 0.4637 - val_loss: 1.1033 - val_accuracy: 0.2656\n",
            "Epoch 2/25\n",
            "48/48 [==============================] - ETA: 0s - loss: 0.9723 - accuracy: 0.5474\n",
            "Epoch 00002: val_accuracy improved from 0.26562 to 0.57812, saving model to best_model.h5\n",
            "48/48 [==============================] - 26s 546ms/step - loss: 0.9723 - accuracy: 0.5474 - val_loss: 1.0602 - val_accuracy: 0.5781\n",
            "Epoch 3/25\n",
            "48/48 [==============================] - ETA: 0s - loss: 0.8626 - accuracy: 0.6035\n",
            "Epoch 00003: val_accuracy improved from 0.57812 to 0.71875, saving model to best_model.h5\n",
            "48/48 [==============================] - 26s 540ms/step - loss: 0.8626 - accuracy: 0.6035 - val_loss: 1.0390 - val_accuracy: 0.7188\n",
            "Epoch 4/25\n",
            "48/48 [==============================] - ETA: 0s - loss: 0.7917 - accuracy: 0.6623\n",
            "Epoch 00004: val_accuracy improved from 0.71875 to 0.75000, saving model to best_model.h5\n",
            "48/48 [==============================] - 26s 541ms/step - loss: 0.7917 - accuracy: 0.6623 - val_loss: 1.0099 - val_accuracy: 0.7500\n",
            "Epoch 5/25\n",
            "48/48 [==============================] - ETA: 0s - loss: 0.7042 - accuracy: 0.7061\n",
            "Epoch 00005: val_accuracy improved from 0.75000 to 0.75781, saving model to best_model.h5\n",
            "48/48 [==============================] - 26s 533ms/step - loss: 0.7042 - accuracy: 0.7061 - val_loss: 0.9671 - val_accuracy: 0.7578\n",
            "Epoch 6/25\n",
            "48/48 [==============================] - ETA: 0s - loss: 0.6416 - accuracy: 0.7440\n",
            "Epoch 00006: val_accuracy did not improve from 0.75781\n",
            "48/48 [==============================] - 23s 484ms/step - loss: 0.6416 - accuracy: 0.7440 - val_loss: 0.9298 - val_accuracy: 0.7578\n",
            "Epoch 7/25\n",
            "48/48 [==============================] - ETA: 0s - loss: 0.5354 - accuracy: 0.7988\n",
            "Epoch 00007: val_accuracy improved from 0.75781 to 0.80469, saving model to best_model.h5\n",
            "48/48 [==============================] - 25s 529ms/step - loss: 0.5354 - accuracy: 0.7988 - val_loss: 0.8425 - val_accuracy: 0.8047\n",
            "Epoch 8/25\n",
            "48/48 [==============================] - ETA: 0s - loss: 0.5110 - accuracy: 0.8047\n",
            "Epoch 00008: val_accuracy improved from 0.80469 to 0.82031, saving model to best_model.h5\n",
            "48/48 [==============================] - 25s 524ms/step - loss: 0.5110 - accuracy: 0.8047 - val_loss: 0.7867 - val_accuracy: 0.8203\n",
            "Epoch 9/25\n",
            "48/48 [==============================] - ETA: 0s - loss: 0.4930 - accuracy: 0.8223\n",
            "Epoch 00009: val_accuracy improved from 0.82031 to 0.82812, saving model to best_model.h5\n",
            "48/48 [==============================] - 27s 560ms/step - loss: 0.4930 - accuracy: 0.8223 - val_loss: 0.6901 - val_accuracy: 0.8281\n",
            "Epoch 10/25\n",
            "48/48 [==============================] - ETA: 0s - loss: 0.4521 - accuracy: 0.8223\n",
            "Epoch 00010: val_accuracy improved from 0.82812 to 0.85156, saving model to best_model.h5\n",
            "48/48 [==============================] - 26s 534ms/step - loss: 0.4521 - accuracy: 0.8223 - val_loss: 0.6251 - val_accuracy: 0.8516\n",
            "Epoch 11/25\n",
            "48/48 [==============================] - ETA: 0s - loss: 0.4255 - accuracy: 0.8556\n",
            "Epoch 00011: val_accuracy did not improve from 0.85156\n",
            "48/48 [==============================] - 23s 477ms/step - loss: 0.4255 - accuracy: 0.8556 - val_loss: 0.5315 - val_accuracy: 0.8359\n",
            "Epoch 12/25\n",
            "48/48 [==============================] - ETA: 0s - loss: 0.4172 - accuracy: 0.8452\n",
            "Epoch 00012: val_accuracy did not improve from 0.85156\n",
            "48/48 [==============================] - 23s 486ms/step - loss: 0.4172 - accuracy: 0.8452 - val_loss: 0.4470 - val_accuracy: 0.8516\n",
            "Epoch 13/25\n",
            "48/48 [==============================] - ETA: 0s - loss: 0.3485 - accuracy: 0.8733\n",
            "Epoch 00013: val_accuracy improved from 0.85156 to 0.89062, saving model to best_model.h5\n",
            "48/48 [==============================] - 25s 529ms/step - loss: 0.3485 - accuracy: 0.8733 - val_loss: 0.3572 - val_accuracy: 0.8906\n",
            "Epoch 14/25\n",
            "48/48 [==============================] - ETA: 0s - loss: 0.3532 - accuracy: 0.8687\n",
            "Epoch 00014: val_accuracy did not improve from 0.89062\n",
            "48/48 [==============================] - 23s 484ms/step - loss: 0.3532 - accuracy: 0.8687 - val_loss: 0.3723 - val_accuracy: 0.8438\n",
            "Epoch 15/25\n",
            "48/48 [==============================] - ETA: 0s - loss: 0.3364 - accuracy: 0.8818\n",
            "Epoch 00015: val_accuracy improved from 0.89062 to 0.92969, saving model to best_model.h5\n",
            "48/48 [==============================] - 27s 553ms/step - loss: 0.3364 - accuracy: 0.8818 - val_loss: 0.2572 - val_accuracy: 0.9297\n",
            "Epoch 16/25\n",
            "48/48 [==============================] - ETA: 0s - loss: 0.2891 - accuracy: 0.9027\n",
            "Epoch 00016: val_accuracy did not improve from 0.92969\n",
            "48/48 [==============================] - 23s 485ms/step - loss: 0.2891 - accuracy: 0.9027 - val_loss: 0.2778 - val_accuracy: 0.9141\n",
            "Epoch 17/25\n",
            "48/48 [==============================] - ETA: 0s - loss: 0.2764 - accuracy: 0.9033\n",
            "Epoch 00017: val_accuracy did not improve from 0.92969\n",
            "48/48 [==============================] - 23s 487ms/step - loss: 0.2764 - accuracy: 0.9033 - val_loss: 0.3509 - val_accuracy: 0.8906\n",
            "Epoch 18/25\n",
            "48/48 [==============================] - ETA: 0s - loss: 0.2701 - accuracy: 0.9105\n",
            "Epoch 00018: val_accuracy did not improve from 0.92969\n",
            "\n",
            "Epoch 00018: ReduceLROnPlateau reducing learning rate to 4.999999873689376e-06.\n",
            "48/48 [==============================] - 24s 505ms/step - loss: 0.2701 - accuracy: 0.9105 - val_loss: 0.2494 - val_accuracy: 0.9219\n",
            "Epoch 19/25\n",
            "48/48 [==============================] - ETA: 0s - loss: 0.2617 - accuracy: 0.9086\n",
            "Epoch 00019: val_accuracy improved from 0.92969 to 0.95312, saving model to best_model.h5\n",
            "48/48 [==============================] - 25s 528ms/step - loss: 0.2617 - accuracy: 0.9086 - val_loss: 0.1828 - val_accuracy: 0.9531\n",
            "Epoch 20/25\n",
            "48/48 [==============================] - ETA: 0s - loss: 0.2747 - accuracy: 0.9007\n",
            "Epoch 00020: val_accuracy did not improve from 0.95312\n",
            "48/48 [==============================] - 24s 500ms/step - loss: 0.2747 - accuracy: 0.9007 - val_loss: 0.1897 - val_accuracy: 0.9531\n",
            "Epoch 21/25\n",
            "48/48 [==============================] - ETA: 0s - loss: 0.2704 - accuracy: 0.9099\n",
            "Epoch 00021: val_accuracy did not improve from 0.95312\n",
            "48/48 [==============================] - 23s 478ms/step - loss: 0.2704 - accuracy: 0.9099 - val_loss: 0.2220 - val_accuracy: 0.9219\n",
            "Epoch 22/25\n",
            "48/48 [==============================] - ETA: 0s - loss: 0.2428 - accuracy: 0.9099\n",
            "Epoch 00022: val_accuracy did not improve from 0.95312\n",
            "\n",
            "Epoch 00022: ReduceLROnPlateau reducing learning rate to 3e-06.\n",
            "48/48 [==============================] - 24s 501ms/step - loss: 0.2428 - accuracy: 0.9099 - val_loss: 0.2283 - val_accuracy: 0.9297\n",
            "Epoch 23/25\n",
            "48/48 [==============================] - ETA: 0s - loss: 0.2566 - accuracy: 0.9138\n",
            "Epoch 00023: val_accuracy improved from 0.95312 to 0.96094, saving model to best_model.h5\n",
            "48/48 [==============================] - 25s 523ms/step - loss: 0.2566 - accuracy: 0.9138 - val_loss: 0.1506 - val_accuracy: 0.9609\n",
            "Epoch 24/25\n",
            "48/48 [==============================] - ETA: 0s - loss: 0.2358 - accuracy: 0.9151\n",
            "Epoch 00024: val_accuracy did not improve from 0.96094\n",
            "48/48 [==============================] - 25s 531ms/step - loss: 0.2358 - accuracy: 0.9151 - val_loss: 0.2733 - val_accuracy: 0.8984\n",
            "Epoch 25/25\n",
            "48/48 [==============================] - ETA: 0s - loss: 0.2398 - accuracy: 0.9144\n",
            "Epoch 00025: val_accuracy did not improve from 0.96094\n",
            "48/48 [==============================] - 23s 474ms/step - loss: 0.2398 - accuracy: 0.9144 - val_loss: 0.1670 - val_accuracy: 0.9375\n",
            "training time:  640.1703839302063 s\n"
          ],
          "name": "stdout"
        }
      ]
    },
    {
      "cell_type": "markdown",
      "metadata": {
        "id": "qk59kdzr5AMT"
      },
      "source": [
        "# **Evaluate**"
      ]
    },
    {
      "cell_type": "code",
      "metadata": {
        "id": "4K8XoKgx5do6"
      },
      "source": [
        "%matplotlib inline\n",
        "\n",
        "import matplotlib.pyplot as plt\n",
        "import numpy as np\n",
        "from keras.models import load_model\n",
        "from sklearn.metrics import classification_report, confusion_matrix\n",
        "from google.colab import files"
      ],
      "execution_count": null,
      "outputs": []
    },
    {
      "cell_type": "code",
      "metadata": {
        "colab": {
          "base_uri": "https://localhost:8080/"
        },
        "id": "GVaP9dbG4wc9",
        "outputId": "e9be4643-45c9-4516-8d9c-41588e106a60"
      },
      "source": [
        "model.load_weights(best_model_path)\n",
        "\n",
        "ypred = model.predict(test_gen)\n",
        "prediction = np.argmax(ypred, axis=1)\n",
        "print(classification_report(test_gen.classes, prediction))"
      ],
      "execution_count": null,
      "outputs": [
        {
          "output_type": "stream",
          "text": [
            "              precision    recall  f1-score   support\n",
            "\n",
            "           0       0.91      0.89      0.90       108\n",
            "           1       0.90      0.94      0.92       110\n",
            "           2       0.93      0.91      0.92       113\n",
            "\n",
            "    accuracy                           0.91       331\n",
            "   macro avg       0.91      0.91      0.91       331\n",
            "weighted avg       0.91      0.91      0.91       331\n",
            "\n"
          ],
          "name": "stdout"
        }
      ]
    },
    {
      "cell_type": "code",
      "metadata": {
        "colab": {
          "base_uri": "https://localhost:8080/",
          "height": 379
        },
        "id": "m-_7VhzH40DQ",
        "outputId": "9957126a-924a-4bd6-a085-b671e208a94d"
      },
      "source": [
        "import itertools\n",
        "def plot_confusion_matrix(cm, classes,\n",
        "                          normalize=False,\n",
        "                          title='Confusion matrix',\n",
        "                          cmap=plt.cm.Blues):\n",
        "    if normalize:\n",
        "        cm = cm.astype('float') / cm.sum(axis=1)[:, np.newaxis]\n",
        "        print(\"Normalized confusion matrix\")\n",
        "    else:\n",
        "        print('Confusion matrix, without normalization')\n",
        "\n",
        "    print(cm)\n",
        "\n",
        "    plt.imshow(cm, interpolation='nearest', cmap=cmap)\n",
        "    plt.title(title)\n",
        "    plt.colorbar()\n",
        "    tick_marks = np.arange(len(classes))\n",
        "    plt.xticks(tick_marks, classes, rotation=45)\n",
        "    plt.yticks(tick_marks, classes)\n",
        "\n",
        "    fmt = '.2f' if normalize else 'd'\n",
        "    thresh = cm.max() / 2.\n",
        "    for i, j in itertools.product(range(cm.shape[0]), range(cm.shape[1])):\n",
        "        plt.text(j, i, format(cm[i, j], fmt),\n",
        "                 horizontalalignment=\"center\",\n",
        "                 color=\"white\" if cm[i, j] > thresh else \"black\")\n",
        "\n",
        "    plt.tight_layout()\n",
        "    plt.ylabel('Actual')\n",
        "    plt.xlabel('Predicted')\n",
        "\n",
        "cnf_matrix=confusion_matrix(test_gen.classes,prediction)\n",
        "plot_confusion_matrix(cnf_matrix, classes=test_gen.class_indices)"
      ],
      "execution_count": null,
      "outputs": [
        {
          "output_type": "stream",
          "text": [
            "Confusion matrix, without normalization\n",
            "[[ 96   5   7]\n",
            " [  6 103   1]\n",
            " [  4   6 103]]\n"
          ],
          "name": "stdout"
        },
        {
          "output_type": "display_data",
          "data": {
            "image/png": "[encoded data removed]",
            "text/plain": [
              "<Figure size 432x288 with 2 Axes>"
            ]
          },
          "metadata": {
            "tags": [],
            "needs_background": "light"
          }
        }
      ]
    },
    {
      "cell_type": "code",
      "metadata": {
        "colab": {
          "base_uri": "https://localhost:8080/",
          "height": 581
        },
        "id": "9FZBVsIH46Bb",
        "outputId": "97756a57-ba9f-4f91-9853-8147a7098e1c"
      },
      "source": [
        "plt.style.use(\"ggplot\")\n",
        "\n",
        "plt.plot(np.arange(0, 25), H.history[\"loss\"], label=\"train_loss\")\n",
        "plt.plot(np.arange(0, 25), H.history[\"val_loss\"], label=\"val_loss\")\n",
        "plt.title(\"Loss Plot\")\n",
        "plt.xlabel(\"Epoch #\")\n",
        "plt.ylabel(\"Loss\")\n",
        "plt.show()\n",
        "\n",
        "plt.plot(np.arange(0, 25), H.history[\"accuracy\"], label=\"train_acc\")\n",
        "plt.plot(np.arange(0, 25), H.history[\"val_accuracy\"], label=\"val_acc\")\n",
        "plt.title(\"Accuracy Plot\")\n",
        "plt.xlabel(\"Epoch #\")\n",
        "plt.ylabel(\"Accuracy\")\n",
        "plt.legend()\n",
        "plt.show()"
      ],
      "execution_count": null,
      "outputs": [
        {
          "output_type": "display_data",
          "data": {
            "image/png": "[encoded data removed]",
            "text/plain": [
              "<Figure size 432x288 with 1 Axes>"
            ]
          },
          "metadata": {
            "tags": []
          }
        },
        {
          "output_type": "display_data",
          "data": {
            "image/png": "[encoded data removed]",
            "text/plain": [
              "<Figure size 432x288 with 1 Axes>"
            ]
          },
          "metadata": {
            "tags": []
          }
        }
      ]
    },
    {
      "cell_type": "code",
      "metadata": {
        "id": "o79g90VLiRzO",
        "colab": {
          "base_uri": "https://localhost:8080/",
          "height": 299
        },
        "outputId": "f1ad81cf-b21f-4f55-9eac-b6ef9821b14f"
      },
      "source": [
        "import PIL\n",
        "\n",
        "def predictModel(image_path):\n",
        "    img = PIL.Image.open(image_path)\n",
        "    img_resized = img.resize((224, 224), PIL.Image.LANCZOS)\n",
        "\n",
        "    plt.imshow(img_resized)\n",
        "\n",
        "    img_array = np.expand_dims(np.array(img_resized), axis=0)\n",
        "\n",
        "    pred_coba = model.predict_classes(img_array)\n",
        "    a = model.predict(img_array)\n",
        "\n",
        "    labels = np.argmax(a, axis=1)\n",
        "\n",
        "    plt.title(f\"Pred : {a}\\nLabels : {labels}\")\n",
        "\n",
        "predictModel(\"/content/drive/My Drive/MachineL/Modul3/rockpaperscissors/test/paper/6ycslJxTsTjZc5H2.png\")"
      ],
      "execution_count": null,
      "outputs": [
        {
          "output_type": "display_data",
          "data": {
            "image/png": "[encoded data removed]",
            "text/plain": [
              "<Figure size 432x288 with 1 Axes>"
            ]
          },
          "metadata": {
            "tags": []
          }
        }
      ]
    }
  ]
}